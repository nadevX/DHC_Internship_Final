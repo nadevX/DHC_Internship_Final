{
 "cells": [
  {
   "cell_type": "code",
   "execution_count": 14,
   "id": "e07c4edf-8440-489a-a8ce-130292a03d90",
   "metadata": {},
   "outputs": [],
   "source": [
    "import pandas as pd\n",
    "import numpy as np\n",
    "import matplotlib.pyplot as plt\n",
    "import seaborn as sns\n",
    "from sklearn.model_selection import train_test_split, GridSearchCV\n",
    "from sklearn.ensemble import RandomForestClassifier, GradientBoostingClassifier\n",
    "try:\n",
    "    from xgboost import XGBClassifier\n",
    "    xgboost_available = True\n",
    "except ImportError:\n",
    "    xgboost_available = False\n",
    "from sklearn.preprocessing import StandardScaler\n",
    "from imblearn.over_sampling import SMOTE\n",
    "from sklearn.metrics import classification_report, roc_auc_score, confusion_matrix"
   ]
  },
  {
   "cell_type": "code",
   "execution_count": 15,
   "id": "94e53af1-3391-4852-835d-e031bdfe8ce1",
   "metadata": {},
   "outputs": [],
   "source": [
    "# Load dataset\n",
    "train_data = pd.read_csv('cs-training.csv')\n",
    "test_data = pd.read_csv('cs-test.csv')\n",
    "data_dict = pd.read_excel('Data Dictionary.xls')\n",
    "sample_entry = pd.read_csv('SampleEntry.csv')"
   ]
  },
  {
   "cell_type": "code",
   "execution_count": 16,
   "id": "15b47275-7627-44c6-81dd-70222019dd0a",
   "metadata": {},
   "outputs": [
    {
     "name": "stdout",
     "output_type": "stream",
     "text": [
      "Train Data Sample:\n",
      "   Unnamed: 0  SeriousDlqin2yrs  RevolvingUtilizationOfUnsecuredLines  age  \\\n",
      "0           1                 1                              0.766127   45   \n",
      "1           2                 0                              0.957151   40   \n",
      "2           3                 0                              0.658180   38   \n",
      "3           4                 0                              0.233810   30   \n",
      "4           5                 0                              0.907239   49   \n",
      "\n",
      "   NumberOfTime30-59DaysPastDueNotWorse  DebtRatio  MonthlyIncome  \\\n",
      "0                                     2   0.802982         9120.0   \n",
      "1                                     0   0.121876         2600.0   \n",
      "2                                     1   0.085113         3042.0   \n",
      "3                                     0   0.036050         3300.0   \n",
      "4                                     1   0.024926        63588.0   \n",
      "\n",
      "   NumberOfOpenCreditLinesAndLoans  NumberOfTimes90DaysLate  \\\n",
      "0                               13                        0   \n",
      "1                                4                        0   \n",
      "2                                2                        1   \n",
      "3                                5                        0   \n",
      "4                                7                        0   \n",
      "\n",
      "   NumberRealEstateLoansOrLines  NumberOfTime60-89DaysPastDueNotWorse  \\\n",
      "0                             6                                     0   \n",
      "1                             0                                     0   \n",
      "2                             0                                     0   \n",
      "3                             0                                     0   \n",
      "4                             1                                     0   \n",
      "\n",
      "   NumberOfDependents  \n",
      "0                 2.0  \n",
      "1                 1.0  \n",
      "2                 0.0  \n",
      "3                 0.0  \n",
      "4                 0.0  \n",
      "\n",
      "Test Data Sample:\n",
      "   Unnamed: 0  SeriousDlqin2yrs  RevolvingUtilizationOfUnsecuredLines  age  \\\n",
      "0           1               NaN                              0.885519   43   \n",
      "1           2               NaN                              0.463295   57   \n",
      "2           3               NaN                              0.043275   59   \n",
      "3           4               NaN                              0.280308   38   \n",
      "4           5               NaN                              1.000000   27   \n",
      "\n",
      "   NumberOfTime30-59DaysPastDueNotWorse  DebtRatio  MonthlyIncome  \\\n",
      "0                                     0   0.177513         5700.0   \n",
      "1                                     0   0.527237         9141.0   \n",
      "2                                     0   0.687648         5083.0   \n",
      "3                                     1   0.925961         3200.0   \n",
      "4                                     0   0.019917         3865.0   \n",
      "\n",
      "   NumberOfOpenCreditLinesAndLoans  NumberOfTimes90DaysLate  \\\n",
      "0                                4                        0   \n",
      "1                               15                        0   \n",
      "2                               12                        0   \n",
      "3                                7                        0   \n",
      "4                                4                        0   \n",
      "\n",
      "   NumberRealEstateLoansOrLines  NumberOfTime60-89DaysPastDueNotWorse  \\\n",
      "0                             0                                     0   \n",
      "1                             4                                     0   \n",
      "2                             1                                     0   \n",
      "3                             2                                     0   \n",
      "4                             0                                     0   \n",
      "\n",
      "   NumberOfDependents  \n",
      "0                 0.0  \n",
      "1                 2.0  \n",
      "2                 2.0  \n",
      "3                 0.0  \n",
      "4                 1.0  \n",
      "\n",
      "Data Dictionary Sample:\n",
      "                             Unnamed: 0  \\\n",
      "0                         Variable Name   \n",
      "1                      SeriousDlqin2yrs   \n",
      "2  RevolvingUtilizationOfUnsecuredLines   \n",
      "3                                   age   \n",
      "4  NumberOfTime30-59DaysPastDueNotWorse   \n",
      "\n",
      "                                          Unnamed: 1  Unnamed: 2  \n",
      "0                                        Description        Type  \n",
      "1  Person experienced 90 days past due delinquenc...         Y/N  \n",
      "2  Total balance on credit cards and personal lin...  percentage  \n",
      "3                           Age of borrower in years     integer  \n",
      "4  Number of times borrower has been 30-59 days p...     integer  \n",
      "\n",
      "Sample Entry File:\n",
      "   Id  Probability\n",
      "0   1     0.080807\n",
      "1   2     0.040719\n",
      "2   3     0.011968\n",
      "3   4     0.067640\n",
      "4   5     0.108264\n"
     ]
    }
   ],
   "source": [
    "# Display sample contents of files\n",
    "print(\"Train Data Sample:\")\n",
    "print(train_data.head())\n",
    "print(\"\\nTest Data Sample:\")\n",
    "print(test_data.head())\n",
    "print(\"\\nData Dictionary Sample:\")\n",
    "print(data_dict.head())\n",
    "print(\"\\nSample Entry File:\")\n",
    "print(sample_entry.head())"
   ]
  },
  {
   "cell_type": "code",
   "execution_count": 17,
   "id": "85e1ac13-170d-49ce-8aa0-fbfb38369e5d",
   "metadata": {},
   "outputs": [],
   "source": [
    "# Drop ID column\n",
    "train_data.drop(columns=['Unnamed: 0'], inplace=True, errors='ignore')\n",
    "test_data.drop(columns=['Unnamed: 0'], inplace=True, errors='ignore')"
   ]
  },
  {
   "cell_type": "code",
   "execution_count": 18,
   "id": "03a91112-32fa-4f89-ae3d-9d401f8780ac",
   "metadata": {},
   "outputs": [],
   "source": [
    "# Check missing values\n",
    "train_data.fillna(train_data.median(), inplace=True)\n",
    "test_data.fillna(test_data.median(), inplace=True)"
   ]
  },
  {
   "cell_type": "code",
   "execution_count": 19,
   "id": "a4054654-3bdf-4f46-a784-3801a8be807a",
   "metadata": {},
   "outputs": [],
   "source": [
    "# Define features and target\n",
    "X = train_data.drop(columns=['SeriousDlqin2yrs'])\n",
    "y = train_data['SeriousDlqin2yrs']"
   ]
  },
  {
   "cell_type": "code",
   "execution_count": 20,
   "id": "4bc074fc-ee45-447f-8743-aaf0bab34da0",
   "metadata": {},
   "outputs": [],
   "source": [
    "# Handle class imbalance using SMOTE\n",
    "smote = SMOTE(sampling_strategy=0.5, random_state=42)\n",
    "X_resampled, y_resampled = smote.fit_resample(X, y)"
   ]
  },
  {
   "cell_type": "code",
   "execution_count": 21,
   "id": "26f67891-b8a2-4969-938e-3797233f61b0",
   "metadata": {},
   "outputs": [],
   "source": [
    "# Split data into train and validation sets\n",
    "X_train, X_val, y_train, y_val = train_test_split(X_resampled, y_resampled, test_size=0.2, random_state=42)"
   ]
  },
  {
   "cell_type": "code",
   "execution_count": 22,
   "id": "0d6cacfc-d3fe-4fe4-bec1-9fe9cae4fcae",
   "metadata": {},
   "outputs": [],
   "source": [
    "# Standardize features\n",
    "scaler = StandardScaler()\n",
    "X_train = scaler.fit_transform(X_train)\n",
    "X_val = scaler.transform(X_val)\n",
    "X_test = scaler.transform(test_data.drop(columns=['SeriousDlqin2yrs'], errors='ignore'))"
   ]
  },
  {
   "cell_type": "code",
   "execution_count": 23,
   "id": "c89db086-5e1e-414e-821d-2c2ed913976b",
   "metadata": {},
   "outputs": [
    {
     "data": {
      "image/png": "[encoded data removed]",
      "text/plain": [
       "<Figure size 1000x600 with 1 Axes>"
      ]
     },
     "metadata": {},
     "output_type": "display_data"
    }
   ],
   "source": [
    "# Visualizing Data Distributions\n",
    "plt.figure(figsize=(10, 6))\n",
    "sns.histplot(train_data['SeriousDlqin2yrs'], bins=2, kde=False)\n",
    "plt.xlabel('Default (0 = No, 1 = Yes)')\n",
    "plt.ylabel('Count')\n",
    "plt.title('Distribution of Default Cases in Training Data')\n",
    "plt.xticks([0, 1], ['No Default', 'Default'])\n",
    "plt.show()"
   ]
  },
  {
   "cell_type": "code",
   "execution_count": null,
   "id": "cf627df7-fd6c-4f24-9751-525b727ef6b7",
   "metadata": {},
   "outputs": [],
   "source": [
    "# Train models\n",
    "models = {\n",
    "    'Random Forest': RandomForestClassifier(n_estimators=100, random_state=42),\n",
    "    'Gradient Boosting': GradientBoostingClassifier(n_estimators=100, learning_rate=0.1, random_state=42)\n",
    "}\n",
    "\n",
    "if xgboost_available:\n",
    "    models['XGBoost'] = XGBClassifier(n_estimators=100, learning_rate=0.1, use_label_encoder=False, eval_metric='logloss', random_state=42)\n",
    "\n",
    "results = {}\n",
    "for name, model in models.items():\n",
    "    model.fit(X_train, y_train)\n",
    "    y_pred = model.predict(X_val)\n",
    "    auc_score = roc_auc_score(y_val, model.predict_proba(X_val)[:,1])\n",
    "    results[name] = auc_score\n",
    "    print(f'\\n{name} Model Performance:')\n",
    "    print(classification_report(y_val, y_pred))\n",
    "    print(f'ROC-AUC Score: {auc_score}')\n",
    "   "
   ]
  },
  {
   "cell_type": "code",
   "execution_count": null,
   "id": "113857bf-b7ff-402f-86a4-6f903ebb1910",
   "metadata": {},
   "outputs": [],
   "source": [
    " \n",
    "    # Confusion Matrix\n",
    "    cm = confusion_matrix(y_val, y_pred)\n",
    "    plt.figure(figsize=(6,4))\n",
    "    sns.heatmap(cm, annot=True, fmt='d', cmap='Blues', xticklabels=['No Default', 'Default'], yticklabels=['No Default', 'Default'])\n",
    "    plt.xlabel('Predicted')\n",
    "    plt.ylabel('Actual')\n",
    "    plt.title(f'Confusion Matrix - {name}')\n",
    "    plt.show()"
   ]
  },
  {
   "cell_type": "code",
   "execution_count": null,
   "id": "198a34d0-c170-4b58-844f-f6611289aa1e",
   "metadata": {},
   "outputs": [],
   "source": [
    "# Best Model Selection\n",
    "best_model_name = max(results, key=results.get)\n",
    "best_model = models[best_model_name]\n",
    "print(f'Best Model: {best_model_name} with AUC: {results[best_model_name]}')"
   ]
  },
  {
   "cell_type": "code",
   "execution_count": null,
   "id": "04773dfd-7375-4d2b-b56f-57f0dd158983",
   "metadata": {},
   "outputs": [],
   "source": [
    "# Generate Predictions for Test Data\n",
    "test_predictions = best_model.predict_proba(X_test)[:, 1]\n",
    "sample_entry['Probability'] = test_predictions"
   ]
  },
  {
   "cell_type": "code",
   "execution_count": null,
   "id": "a437c55e-558f-42d8-ba13-311fe47f7c65",
   "metadata": {},
   "outputs": [],
   "source": [
    "# Save final predictions\n",
    "sample_entry.to_csv('FinalPredictions.csv', index=False)\n",
    "print(\"Predictions saved to FinalPredictions.csv\")"
   ]
  },
  {
   "cell_type": "code",
   "execution_count": null,
   "id": "04ee5c99-f3c5-45cc-a3c0-b74aad88c197",
   "metadata": {},
   "outputs": [],
   "source": [
    "# Risk Analysis\n",
    "train_data['Predicted_Risk'] = best_model.predict(X)\n",
    "plt.figure(figsize=(8, 5))\n",
    "sns.histplot(train_data['Predicted_Risk'], bins=2, kde=False)\n",
    "plt.xlabel('Risk Category')\n",
    "plt.ylabel('Count')\n",
    "plt.title('Distribution of Predicted Credit Risk')\n",
    "plt.xticks([0, 1], ['Low Risk', 'High Risk'])\n",
    "plt.show()"
   ]
  },
  {
   "cell_type": "code",
   "execution_count": null,
   "id": "1f1f0064-0942-428b-9764-6a1c0946bab0",
   "metadata": {},
   "outputs": [],
   "source": [
    "# Visualizing feature importance for best model\n",
    "if hasattr(best_model, 'feature_importances_'):\n",
    "    feature_importances = pd.Series(best_model.feature_importances_, index=X.columns).sort_values(ascending=False)\n",
    "    plt.figure(figsize=(12, 6))\n",
    "    sns.barplot(x=feature_importances, y=feature_importances.index)\n",
    "    plt.xlabel('Importance Score')\n",
    "    plt.ylabel('Feature')\n",
    "    plt.title(f'Feature Importance - {best_model_name}')\n",
    "    plt.show()"
   ]
  },
  {
   "cell_type": "code",
   "execution_count": null,
   "id": "ad2998a0-fdd6-4cba-ab17-d4953baa001e",
   "metadata": {},
   "outputs": [],
   "source": []
  }
 ],
 "metadata": {
  "kernelspec": {
   "display_name": "Python 3 (ipykernel)",
   "language": "python",
   "name": "python3"
  },
  "language_info": {
   "codemirror_mode": {
    "name": "ipython",
    "version": 3
   },
   "file_extension": ".py",
   "mimetype": "text/x-python",
   "name": "python",
   "nbconvert_exporter": "python",
   "pygments_lexer": "ipython3",
   "version": "3.12.7"
  }
 },
 "nbformat": 4,
 "nbformat_minor": 5
}
